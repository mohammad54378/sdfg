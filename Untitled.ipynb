{
 "cells": [
  {
   "cell_type": "code",
   "execution_count": 1,
   "id": "90708b94-d50c-4817-9f76-d7eb21bfa898",
   "metadata": {},
   "outputs": [],
   "source": [
    "import numpy as np\n"
   ]
  },
  {
   "cell_type": "code",
   "execution_count": 3,
   "id": "7d9e59ba-34fd-49e2-8361-bf6afdb6d8db",
   "metadata": {},
   "outputs": [
    {
     "name": "stdout",
     "output_type": "stream",
     "text": [
      "[1 2 3]\n"
     ]
    }
   ],
   "source": [
    "a = np.array ([1,2,3])\n",
    "print (a)"
   ]
  },
  {
   "cell_type": "code",
   "execution_count": 2,
   "id": "f313497d-fecd-4c31-ae8f-c4504920c675",
   "metadata": {},
   "outputs": [
    {
     "name": "stdout",
     "output_type": "stream",
     "text": [
      "[2.0, 3.0, 4.0, 5.5]\n"
     ]
    }
   ],
   "source": [
    "b =  ([2.0,3.0,4.0,5.5])\n",
    "print (b)"
   ]
  },
  {
   "cell_type": "code",
   "execution_count": 7,
   "id": "45cd049b-7747-4dbf-bf29-9af6b1d3cd47",
   "metadata": {},
   "outputs": [],
   "source": [
    "import numpy as np"
   ]
  },
  {
   "cell_type": "code",
   "execution_count": 10,
   "id": "bbcc7f7e-05fb-4eba-ad76-4eba577dbb39",
   "metadata": {},
   "outputs": [
    {
     "name": "stdout",
     "output_type": "stream",
     "text": [
      "[[[0.46838477 0.90678623 0.91075975]\n",
      "  [0.96165463 0.59567031 0.70636611]\n",
      "  [0.8771974  0.52339607 0.05255683]\n",
      "  [0.19921588 0.79040661 0.26956171]]\n",
      "\n",
      " [[0.81408553 0.82896132 0.12855892]\n",
      "  [0.38965929 0.4536558  0.77485277]\n",
      "  [0.45758865 0.10032325 0.34380485]\n",
      "  [0.6631244  0.45447724 0.71999241]]\n",
      "\n",
      " [[0.60039893 0.84246553 0.65604524]\n",
      "  [0.39549182 0.77540095 0.17907903]\n",
      "  [0.24218495 0.28360984 0.30470385]\n",
      "  [0.04307528 0.64478239 0.51172927]]]\n"
     ]
    }
   ],
   "source": [
    "random_array = np.random.rand(3, 4, 3)\n",
    "print(random_array)\n"
   ]
  },
  {
   "cell_type": "code",
   "execution_count": 12,
   "id": "3b7c095c-e12e-4885-a160-fabe35ae5ca5",
   "metadata": {},
   "outputs": [
    {
     "data": {
      "text/plain": [
       "array([[[0.8099554 , 0.56828568, 0.52879415],\n",
       "        [0.2766327 , 0.32918627, 0.65373811],\n",
       "        [0.65151429, 0.53964127, 0.24280358],\n",
       "        [0.45069557, 0.86400169, 0.44688212],\n",
       "        [0.14324595, 0.54623313, 0.10216193]],\n",
       "\n",
       "       [[0.43422982, 0.93987258, 0.48662963],\n",
       "        [0.69603968, 0.64077062, 0.46210579],\n",
       "        [0.62631409, 0.73577045, 0.46999698],\n",
       "        [0.31879108, 0.62523568, 0.96149829],\n",
       "        [0.80506264, 0.14730753, 0.1414825 ]],\n",
       "\n",
       "       [[0.19226783, 0.2378978 , 0.73304305],\n",
       "        [0.72302393, 0.87627155, 0.48125608],\n",
       "        [0.91484814, 0.60223775, 0.16503749],\n",
       "        [0.99696976, 0.61998345, 0.65875022],\n",
       "        [0.27980498, 0.07948596, 0.70692521]],\n",
       "\n",
       "       [[0.15388412, 0.26490125, 0.77800194],\n",
       "        [0.73048208, 0.44809627, 0.9172616 ],\n",
       "        [0.67420522, 0.1321778 , 0.85173137],\n",
       "        [0.00967678, 0.70863571, 0.27362667],\n",
       "        [0.920437  , 0.64258717, 0.53908969]]])"
      ]
     },
     "execution_count": 12,
     "metadata": {},
     "output_type": "execute_result"
    }
   ],
   "source": [
    "np.random.rand(4,5,3)"
   ]
  },
  {
   "cell_type": "code",
   "execution_count": 15,
   "id": "09f4b565-5588-42eb-8d76-1088a5e6a652",
   "metadata": {},
   "outputs": [
    {
     "data": {
      "text/plain": [
       "array([0.82069619, 0.17008797, 0.1240364 ])"
      ]
     },
     "execution_count": 15,
     "metadata": {},
     "output_type": "execute_result"
    }
   ],
   "source": [
    "np.random.random_sample(a.shape)"
   ]
  },
  {
   "cell_type": "code",
   "execution_count": 14,
   "id": "848d6a7d-6f48-4582-a34f-4e4e79dafffb",
   "metadata": {},
   "outputs": [],
   "source": [
    "a = np.array ([1,2,3])\n"
   ]
  },
  {
   "cell_type": "code",
   "execution_count": 16,
   "id": "1a597bbc-172e-405f-a822-8437c911c483",
   "metadata": {},
   "outputs": [
    {
     "data": {
      "text/plain": [
       "array([[2, 1, 5],\n",
       "       [4, 2, 0],\n",
       "       [2, 3, 2]], dtype=int32)"
      ]
     },
     "execution_count": 16,
     "metadata": {},
     "output_type": "execute_result"
    }
   ],
   "source": [
    "np.random.randint(7, size=(3,3))"
   ]
  },
  {
   "cell_type": "code",
   "execution_count": 1,
   "id": "265e7de7-bc83-4436-b772-965d57a2ae20",
   "metadata": {},
   "outputs": [],
   "source": [
    "import numpy as np"
   ]
  },
  {
   "cell_type": "code",
   "execution_count": 3,
   "id": "6508179f-768a-4ae2-970d-d80e8bcd4010",
   "metadata": {},
   "outputs": [],
   "source": [
    "array = np.array([\n",
    "                  [['A' , 'B', 'C'], ['D' , 'E' ,'F'] ,['G', 'H' , 'I']],\n",
    "                  [['J' , 'K', 'L'], ['M' , 'N' ,'O'] ,['P', 'Q' , 'R']],\n",
    "                   [['S' , 'T', 'U'], ['V' , 'W' ,'X'] ,['Y', 'Z' , '']]\n",
    "                   ])"
   ]
  },
  {
   "cell_type": "code",
   "execution_count": 4,
   "id": "8a2078d3-f9ca-4a38-8180-d874aa9b8385",
   "metadata": {},
   "outputs": [],
   "source": [
    "word = array[0, 1, 2] + array[2, 0, 2] + array[0, 0, 2]+ array[1, 0, 1]\n"
   ]
  },
  {
   "cell_type": "code",
   "execution_count": 5,
   "id": "a12f5053-5825-438b-84be-3269d5b0d15c",
   "metadata": {},
   "outputs": [
    {
     "name": "stdout",
     "output_type": "stream",
     "text": [
      "FUCK\n"
     ]
    }
   ],
   "source": [
    "print(word)\n"
   ]
  },
  {
   "cell_type": "code",
   "execution_count": null,
   "id": "ebb2dc21-3eeb-431b-9af6-8622acfeac81",
   "metadata": {},
   "outputs": [],
   "source": []
  }
 ],
 "metadata": {
  "kernelspec": {
   "display_name": "Python 3 (ipykernel)",
   "language": "python",
   "name": "python3"
  },
  "language_info": {
   "codemirror_mode": {
    "name": "ipython",
    "version": 3
   },
   "file_extension": ".py",
   "mimetype": "text/x-python",
   "name": "python",
   "nbconvert_exporter": "python",
   "pygments_lexer": "ipython3",
   "version": "3.13.5"
  }
 },
 "nbformat": 4,
 "nbformat_minor": 5
}
